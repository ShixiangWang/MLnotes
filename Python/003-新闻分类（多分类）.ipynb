{
 "cells": [
  {
   "cell_type": "markdown",
   "metadata": {},
   "source": [
    "# 新闻分类-多分类问题\n",
    "\n",
    "> 有单标签多分类和多标签多分类两类"
   ]
  },
  {
   "cell_type": "markdown",
   "metadata": {},
   "source": [
    "## 路透社数据集"
   ]
  },
  {
   "cell_type": "code",
   "execution_count": 1,
   "metadata": {
    "scrolled": true
   },
   "outputs": [
    {
     "name": "stderr",
     "output_type": "stream",
     "text": [
      "Using TensorFlow backend.\n"
     ]
    }
   ],
   "source": [
    "from keras.datasets import reuters\n",
    "\n",
    "(train_data, train_labels), (test_data, test_labels) = reuters.load_data(num_words=10000)"
   ]
  },
  {
   "cell_type": "code",
   "execution_count": 2,
   "metadata": {},
   "outputs": [
    {
     "data": {
      "text/plain": [
       "2246"
      ]
     },
     "execution_count": 2,
     "metadata": {},
     "output_type": "execute_result"
    }
   ],
   "source": [
    "# 样本大小\n",
    "len(train_data)\n",
    "len(test_data)"
   ]
  },
  {
   "cell_type": "code",
   "execution_count": 3,
   "metadata": {},
   "outputs": [
    {
     "data": {
      "text/plain": [
       "[1, 2, 2, 8, 43]"
      ]
     },
     "execution_count": 3,
     "metadata": {},
     "output_type": "execute_result"
    }
   ],
   "source": [
    "# 整数列表表示单词索引\n",
    "train_data[0][:5]"
   ]
  },
  {
   "cell_type": "markdown",
   "metadata": {},
   "source": [
    "## 准备数据"
   ]
  },
  {
   "cell_type": "code",
   "execution_count": 4,
   "metadata": {},
   "outputs": [],
   "source": [
    "# 与上一个实例同样的预处理方式\n",
    "\n",
    "import numpy as np\n",
    "def vectorize_sequences(sequences, dimension=10000):\n",
    "    results = np.zeros((len(sequences), dimension))\n",
    "    for i, sequence in enumerate(sequences):\n",
    "        results[i, sequence] = 1.\n",
    "    return results"
   ]
  },
  {
   "cell_type": "code",
   "execution_count": 5,
   "metadata": {},
   "outputs": [],
   "source": [
    "x_train = vectorize_sequences(train_data)\n",
    "x_test = vectorize_sequences(test_data)"
   ]
  },
  {
   "cell_type": "markdown",
   "metadata": {},
   "source": [
    "标签向量化两种方法：\n",
    "\n",
    "- 将标签列表转换为整数张量，这里指的是如果有 a, b, c 3 类，它应该转换为 0, 1, 2 这种整数，就可以套入数学模型计算了。\n",
    "- 使用 one-hot 编码（也称为分类编码），a, b, c 3 类的写法则成了下面这种矩阵形式"
   ]
  },
  {
   "cell_type": "code",
   "execution_count": 6,
   "metadata": {},
   "outputs": [
    {
     "data": {
      "text/plain": [
       "array([[1, 0, 0],\n",
       "       [0, 1, 0],\n",
       "       [0, 0, 1]])"
      ]
     },
     "execution_count": 6,
     "metadata": {},
     "output_type": "execute_result"
    }
   ],
   "source": [
    "np.array([[1, 0, 0], [0, 1, 0], [0, 0, 1]])"
   ]
  },
  {
   "cell_type": "code",
   "execution_count": 7,
   "metadata": {},
   "outputs": [],
   "source": [
    "# one-hot encoding 代码实现\n",
    "def to_one_hot(labels, dimension=46):\n",
    "    results = np.zeros((len(labels), dimension))\n",
    "    for i, label in enumerate(labels):\n",
    "        results[i, label] = 1.\n",
    "    return results"
   ]
  },
  {
   "cell_type": "code",
   "execution_count": 8,
   "metadata": {},
   "outputs": [],
   "source": [
    "# one_hot_train_labels = to_one_hot(train_labels)\n",
    "# one_hot_test_labels  = to_one_hot(test_labels)"
   ]
  },
  {
   "cell_type": "code",
   "execution_count": 9,
   "metadata": {},
   "outputs": [],
   "source": [
    "# Keras 库本身内置了 one-hot encoding 实现，直接可以调用\n",
    "from keras.utils.np_utils import to_categorical\n",
    "\n",
    "one_hot_train_labels = to_categorical(train_labels)\n",
    "one_hot_test_labels  = to_categorical(test_labels)"
   ]
  },
  {
   "cell_type": "markdown",
   "metadata": {},
   "source": [
    "## 构建网络\n",
    "\n",
    "这里需要输出 46 个分类，中间层尽量大于这个数字，这样可以避免永久性丢失相关信息（信息瓶颈）"
   ]
  },
  {
   "cell_type": "code",
   "execution_count": 10,
   "metadata": {},
   "outputs": [],
   "source": [
    "from keras import models\n",
    "from keras import layers\n",
    "\n",
    "model = models.Sequential()\n",
    "model.add(layers.Dense(64, activation='relu', input_shape=(10000, )))\n",
    "model.add(layers.Dense(64, activation='relu'))\n",
    "model.add(layers.Dense(46, activation='softmax'))"
   ]
  },
  {
   "cell_type": "code",
   "execution_count": 11,
   "metadata": {},
   "outputs": [],
   "source": [
    "# 使用分类交叉熵作为损失函数\n",
    "model.compile(optimizer='rmsprop',\n",
    "              loss='categorical_crossentropy',\n",
    "              metrics=['accuracy'])"
   ]
  },
  {
   "cell_type": "markdown",
   "metadata": {},
   "source": [
    "## 留出验证集评估模型"
   ]
  },
  {
   "cell_type": "code",
   "execution_count": 12,
   "metadata": {},
   "outputs": [],
   "source": [
    "x_val = x_train[:1000]\n",
    "p_x_train = x_train[1000:]\n",
    "\n",
    "y_val = one_hot_train_labels[:1000]\n",
    "p_y_train = one_hot_train_labels[1000:]"
   ]
  },
  {
   "cell_type": "code",
   "execution_count": 13,
   "metadata": {},
   "outputs": [
    {
     "name": "stdout",
     "output_type": "stream",
     "text": [
      "Train on 7982 samples, validate on 1000 samples\n",
      "Epoch 1/20\n",
      "7982/7982 [==============================] - 1s 116us/step - loss: 2.6305 - accuracy: 0.5122 - val_loss: 1.7639 - val_accuracy: 0.6250\n",
      "Epoch 2/20\n",
      "7982/7982 [==============================] - 1s 89us/step - loss: 1.4522 - accuracy: 0.6964 - val_loss: 1.3323 - val_accuracy: 0.7010\n",
      "Epoch 3/20\n",
      "7982/7982 [==============================] - 1s 77us/step - loss: 1.0789 - accuracy: 0.7699 - val_loss: 1.1464 - val_accuracy: 0.7480\n",
      "Epoch 4/20\n",
      "7982/7982 [==============================] - 1s 75us/step - loss: 0.8501 - accuracy: 0.8166 - val_loss: 1.0419 - val_accuracy: 0.7810\n",
      "Epoch 5/20\n",
      "7982/7982 [==============================] - 1s 79us/step - loss: 0.6794 - accuracy: 0.8555 - val_loss: 0.9635 - val_accuracy: 0.8030\n",
      "Epoch 6/20\n",
      "7982/7982 [==============================] - 1s 77us/step - loss: 0.5460 - accuracy: 0.8851 - val_loss: 0.9383 - val_accuracy: 0.8030\n",
      "Epoch 7/20\n",
      "7982/7982 [==============================] - 1s 84us/step - loss: 0.4435 - accuracy: 0.9088 - val_loss: 0.8874 - val_accuracy: 0.8240\n",
      "Epoch 8/20\n",
      "7982/7982 [==============================] - 1s 79us/step - loss: 0.3570 - accuracy: 0.9247 - val_loss: 0.8729 - val_accuracy: 0.8310\n",
      "Epoch 9/20\n",
      "7982/7982 [==============================] - 1s 74us/step - loss: 0.2995 - accuracy: 0.9344 - val_loss: 0.8792 - val_accuracy: 0.8180\n",
      "Epoch 10/20\n",
      "7982/7982 [==============================] - 1s 84us/step - loss: 0.2514 - accuracy: 0.9436 - val_loss: 0.8911 - val_accuracy: 0.8190\n",
      "Epoch 11/20\n",
      "7982/7982 [==============================] - 1s 84us/step - loss: 0.2178 - accuracy: 0.9480 - val_loss: 0.8989 - val_accuracy: 0.8200\n",
      "Epoch 12/20\n",
      "7982/7982 [==============================] - 1s 72us/step - loss: 0.1884 - accuracy: 0.9520 - val_loss: 0.8817 - val_accuracy: 0.8250\n",
      "Epoch 13/20\n",
      "7982/7982 [==============================] - 1s 77us/step - loss: 0.1738 - accuracy: 0.9506 - val_loss: 0.9032 - val_accuracy: 0.8280\n",
      "Epoch 14/20\n",
      "7982/7982 [==============================] - 1s 84us/step - loss: 0.1529 - accuracy: 0.9535 - val_loss: 0.9405 - val_accuracy: 0.8180\n",
      "Epoch 15/20\n",
      "7982/7982 [==============================] - 1s 79us/step - loss: 0.1434 - accuracy: 0.9551 - val_loss: 0.9581 - val_accuracy: 0.8240\n",
      "Epoch 16/20\n",
      "7982/7982 [==============================] - 1s 79us/step - loss: 0.1385 - accuracy: 0.9558 - val_loss: 1.0037 - val_accuracy: 0.8140\n",
      "Epoch 17/20\n",
      "7982/7982 [==============================] - 1s 79us/step - loss: 0.1258 - accuracy: 0.9565 - val_loss: 0.9887 - val_accuracy: 0.8170\n",
      "Epoch 18/20\n",
      "7982/7982 [==============================] - 1s 81us/step - loss: 0.1193 - accuracy: 0.9570 - val_loss: 0.9929 - val_accuracy: 0.8210\n",
      "Epoch 19/20\n",
      "7982/7982 [==============================] - 1s 82us/step - loss: 0.1142 - accuracy: 0.9578 - val_loss: 1.0556 - val_accuracy: 0.8100\n",
      "Epoch 20/20\n",
      "7982/7982 [==============================] - 1s 80us/step - loss: 0.1151 - accuracy: 0.9563 - val_loss: 1.0409 - val_accuracy: 0.8090\n"
     ]
    }
   ],
   "source": [
    "## 训练 20 轮次\n",
    "history = model.fit(p_x_train,\n",
    "                    p_y_train,\n",
    "                    epochs=20,\n",
    "                    batch_size=512,\n",
    "                    validation_data=(x_val, y_val))"
   ]
  },
  {
   "cell_type": "code",
   "execution_count": 14,
   "metadata": {},
   "outputs": [
    {
     "data": {
      "image/png": "[encoded data removed]",
      "text/plain": [
       "<Figure size 432x288 with 1 Axes>"
      ]
     },
     "metadata": {
      "needs_background": "light"
     },
     "output_type": "display_data"
    }
   ],
   "source": [
    "## 绘制训练损失和验证损失\n",
    "## 就没有直接的函数调用吗？？？？？\n",
    "\n",
    "import matplotlib.pyplot as plt\n",
    "\n",
    "loss = history.history['loss']\n",
    "val_loss = history.history['val_loss']\n",
    "\n",
    "epochs = range(1, len(loss) + 1)\n",
    "\n",
    "plt.plot(epochs, loss, 'bo', label='Training loss')\n",
    "plt.plot(epochs, val_loss, 'b', label='Validation loss')\n",
    "plt.title('Training and validation loss')\n",
    "plt.xlabel('Epochs')\n",
    "plt.ylabel('Loss')\n",
    "plt.legend()\n",
    "\n",
    "plt.show()"
   ]
  },
  {
   "cell_type": "code",
   "execution_count": 15,
   "metadata": {},
   "outputs": [
    {
     "data": {
      "text/plain": [
       "dict_keys(['val_loss', 'val_accuracy', 'loss', 'accuracy'])"
      ]
     },
     "execution_count": 15,
     "metadata": {},
     "output_type": "execute_result"
    }
   ],
   "source": [
    "history.history.keys()"
   ]
  },
  {
   "cell_type": "code",
   "execution_count": 16,
   "metadata": {},
   "outputs": [
    {
     "data": {
      "image/png": "[encoded data removed]",
      "text/plain": [
       "<Figure size 432x288 with 1 Axes>"
      ]
     },
     "metadata": {
      "needs_background": "light"
     },
     "output_type": "display_data"
    }
   ],
   "source": [
    "## 绘制训练精度和验证精度\n",
    "\n",
    "acc = history.history['accuracy']\n",
    "val_acc = history.history['val_accuracy']\n",
    "\n",
    "plt.plot(epochs, acc, 'bo', label='Training accuracy')\n",
    "plt.plot(epochs, val_acc, 'b', label='Validation accuracy')\n",
    "plt.title('Training and validation accuracy')\n",
    "plt.xlabel('Epochs')\n",
    "plt.ylabel('Accuracy')\n",
    "plt.legend()\n",
    "\n",
    "plt.show()"
   ]
  },
  {
   "cell_type": "markdown",
   "metadata": {},
   "source": [
    "## 在新的数据上预测"
   ]
  },
  {
   "cell_type": "code",
   "execution_count": 17,
   "metadata": {},
   "outputs": [],
   "source": [
    "prediction = model.predict(x_test)"
   ]
  },
  {
   "cell_type": "code",
   "execution_count": 18,
   "metadata": {},
   "outputs": [
    {
     "data": {
      "text/plain": [
       "array([[2.77034303e-07, 3.33977778e-06, 1.77945822e-07, ...,\n",
       "        5.61340201e-08, 1.76045020e-07, 2.90529156e-09],\n",
       "       [4.12061519e-04, 1.31806377e-02, 7.19061381e-06, ...,\n",
       "        6.25633945e-08, 1.87745499e-08, 2.40504796e-05],\n",
       "       [5.10414876e-03, 9.82955813e-01, 1.46782068e-05, ...,\n",
       "        8.74682064e-06, 1.19046746e-07, 2.87790681e-05],\n",
       "       ...,\n",
       "       [5.69346469e-07, 1.29913287e-05, 2.52958557e-06, ...,\n",
       "        2.16044114e-07, 1.36899268e-06, 1.50399728e-08],\n",
       "       [8.92372150e-03, 1.54714420e-01, 8.14427156e-03, ...,\n",
       "        6.05434034e-05, 1.53022440e-04, 7.83342621e-05],\n",
       "       [1.77697034e-03, 7.48163879e-01, 7.04478240e-04, ...,\n",
       "        5.68508985e-05, 5.01939257e-06, 7.97051471e-05]], dtype=float32)"
      ]
     },
     "execution_count": 18,
     "metadata": {},
     "output_type": "execute_result"
    }
   ],
   "source": [
    "prediction"
   ]
  },
  {
   "cell_type": "code",
   "execution_count": 19,
   "metadata": {},
   "outputs": [
    {
     "data": {
      "text/plain": [
       "(46,)"
      ]
     },
     "execution_count": 19,
     "metadata": {},
     "output_type": "execute_result"
    }
   ],
   "source": [
    "prediction[0].shape"
   ]
  },
  {
   "cell_type": "markdown",
   "metadata": {},
   "source": [
    "46 个元素依次对应相应的分类。"
   ]
  },
  {
   "cell_type": "code",
   "execution_count": 20,
   "metadata": {},
   "outputs": [
    {
     "data": {
      "text/plain": [
       "1.0000001"
      ]
     },
     "execution_count": 20,
     "metadata": {},
     "output_type": "execute_result"
    }
   ],
   "source": [
    "np.sum(prediction[0])  ## 概率和是1，这里可能受计算机浮点数计算影响"
   ]
  },
  {
   "cell_type": "code",
   "execution_count": 21,
   "metadata": {},
   "outputs": [
    {
     "data": {
      "text/plain": [
       "3"
      ]
     },
     "execution_count": 21,
     "metadata": {},
     "output_type": "execute_result"
    }
   ],
   "source": [
    "## 最大值所在的索引即对应了大概概率的分类\n",
    "## 也就是最后的某一观测数据的预测标签了\n",
    "\n",
    "np.argmax(prediction[0])"
   ]
  },
  {
   "cell_type": "markdown",
   "metadata": {},
   "source": [
    "### 处理标签的不同方法\n",
    "\n",
    "> 其实是殊途同归，底层实现是一样的\n",
    "\n",
    "我们在编译模型时可以设定不同的损失函数，这样在处理的时候就不需要进行 one-hot 编码了（本质相同，外部接口看起来不同而已）。"
   ]
  },
  {
   "cell_type": "code",
   "execution_count": 22,
   "metadata": {},
   "outputs": [],
   "source": [
    "# model.compile(optimizer='rmsprop',\n",
    "#               loss='sparse_catagorical_crossentropy',  # 这里取代了 `catagorical_crossentropy`\n",
    "#               metrics=['acc'])"
   ]
  }
 ],
 "metadata": {
  "kernelspec": {
   "display_name": "Python 3",
   "language": "python",
   "name": "python3"
  },
  "language_info": {
   "codemirror_mode": {
    "name": "ipython",
    "version": 3
   },
   "file_extension": ".py",
   "mimetype": "text/x-python",
   "name": "python",
   "nbconvert_exporter": "python",
   "pygments_lexer": "ipython3",
   "version": "3.6.10"
  }
 },
 "nbformat": 4,
 "nbformat_minor": 4
}
